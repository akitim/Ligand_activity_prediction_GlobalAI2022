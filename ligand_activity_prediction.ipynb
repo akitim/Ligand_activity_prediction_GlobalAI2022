{
  "nbformat": 4,
  "nbformat_minor": 0,
  "metadata": {
    "colab": {
      "name": "ligand_activity_prediction.ipynb",
      "provenance": [],
      "toc_visible": true,
      "include_colab_link": true
    },
    "kernelspec": {
      "name": "python3",
      "display_name": "Python 3"
    },
    "language_info": {
      "name": "python"
    }
  },
  "cells": [
    {
      "cell_type": "markdown",
      "metadata": {
        "id": "view-in-github",
        "colab_type": "text"
      },
      "source": [
        "<a href=\"https://colab.research.google.com/github/akitim/Ligand_activity_prediction_GlobalAI2022/blob/main/ligand_activity_prediction.ipynb\" target=\"_parent\"><img src=\"https://colab.research.google.com/assets/colab-badge.svg\" alt=\"Open In Colab\"/></a>"
      ]
    },
    {
      "cell_type": "markdown",
      "source": [
        "## Импорт библиотек"
      ],
      "metadata": {
        "id": "HfJq2gvJ6qE3"
      }
    },
    {
      "cell_type": "code",
      "execution_count": 20,
      "metadata": {
        "colab": {
          "base_uri": "https://localhost:8080/"
        },
        "id": "gq7QxEVEshkE",
        "outputId": "beaeee8c-5aaf-42d3-8bff-e90707274463"
      },
      "outputs": [
        {
          "output_type": "stream",
          "name": "stdout",
          "text": [
            "Requirement already satisfied: rdkit-pypi in /usr/local/lib/python3.7/dist-packages (2021.9.4)\n",
            "Requirement already satisfied: numpy>=1.19 in /usr/local/lib/python3.7/dist-packages (from rdkit-pypi) (1.19.5)\n",
            "Requirement already satisfied: Pillow in /usr/local/lib/python3.7/dist-packages (from rdkit-pypi) (7.1.2)\n"
          ]
        }
      ],
      "source": [
        "!python -m pip install rdkit-pypi"
      ]
    },
    {
      "cell_type": "code",
      "source": [
        "!pip install catboost"
      ],
      "metadata": {
        "colab": {
          "base_uri": "https://localhost:8080/"
        },
        "id": "t53N2JSJ-E4J",
        "outputId": "93cf1705-2748-4b9f-f0c7-cc98d6dc92e2"
      },
      "execution_count": 21,
      "outputs": [
        {
          "output_type": "stream",
          "name": "stdout",
          "text": [
            "Requirement already satisfied: catboost in /usr/local/lib/python3.7/dist-packages (1.0.4)\n",
            "Requirement already satisfied: matplotlib in /usr/local/lib/python3.7/dist-packages (from catboost) (3.2.2)\n",
            "Requirement already satisfied: scipy in /usr/local/lib/python3.7/dist-packages (from catboost) (1.4.1)\n",
            "Requirement already satisfied: pandas>=0.24.0 in /usr/local/lib/python3.7/dist-packages (from catboost) (1.3.5)\n",
            "Requirement already satisfied: graphviz in /usr/local/lib/python3.7/dist-packages (from catboost) (0.10.1)\n",
            "Requirement already satisfied: numpy>=1.16.0 in /usr/local/lib/python3.7/dist-packages (from catboost) (1.19.5)\n",
            "Requirement already satisfied: six in /usr/local/lib/python3.7/dist-packages (from catboost) (1.15.0)\n",
            "Requirement already satisfied: plotly in /usr/local/lib/python3.7/dist-packages (from catboost) (5.5.0)\n",
            "Requirement already satisfied: pytz>=2017.3 in /usr/local/lib/python3.7/dist-packages (from pandas>=0.24.0->catboost) (2018.9)\n",
            "Requirement already satisfied: python-dateutil>=2.7.3 in /usr/local/lib/python3.7/dist-packages (from pandas>=0.24.0->catboost) (2.8.2)\n",
            "Requirement already satisfied: kiwisolver>=1.0.1 in /usr/local/lib/python3.7/dist-packages (from matplotlib->catboost) (1.3.2)\n",
            "Requirement already satisfied: cycler>=0.10 in /usr/local/lib/python3.7/dist-packages (from matplotlib->catboost) (0.11.0)\n",
            "Requirement already satisfied: pyparsing!=2.0.4,!=2.1.2,!=2.1.6,>=2.0.1 in /usr/local/lib/python3.7/dist-packages (from matplotlib->catboost) (3.0.7)\n",
            "Requirement already satisfied: tenacity>=6.2.0 in /usr/local/lib/python3.7/dist-packages (from plotly->catboost) (8.0.1)\n"
          ]
        }
      ]
    },
    {
      "cell_type": "code",
      "source": [
        "import matplotlib.pyplot as plt\n",
        "import pandas as pd\n",
        "import numpy as np\n",
        "\n",
        "from rdkit import Chem\n",
        "from rdkit.Chem.Draw import IPythonConsole\n",
        "from rdkit.Chem.Descriptors import MolWt\n",
        "\n",
        "from sklearn.metrics import f1_score\n",
        "from sklearn.linear_model import LogisticRegression, LogisticRegressionCV\n",
        "from sklearn.model_selection import train_test_split, StratifiedKFold\n",
        "from sklearn.ensemble import RandomForestClassifier\n",
        "from sklearn.preprocessing import StandardScaler"
      ],
      "metadata": {
        "id": "0BbwFRjfDdbi"
      },
      "execution_count": 22,
      "outputs": []
    },
    {
      "cell_type": "markdown",
      "source": [
        "## Функции"
      ],
      "metadata": {
        "id": "9l56xZ-f6xOU"
      }
    },
    {
      "cell_type": "code",
      "source": [
        "def get_submission_file(clf, data):\n",
        "    \n",
        "    X_test = data[data['is_test']].\\\n",
        "        drop(['is_test', 'smiles', 'active'], axis=1)\n",
        "\n",
        "    submission = data[data['is_test']].\\\n",
        "        drop(['is_test', 'active'], axis=1).copy()\n",
        "    submission['Active'] = clf.predict(X_test)\n",
        "    submission.columns = ['Smiles', 'Active']\n",
        "\n",
        "    submission.to_csv('submission.csv')\n",
        "    return submission"
      ],
      "metadata": {
        "id": "IdeVavJO6m-p"
      },
      "execution_count": 23,
      "outputs": []
    },
    {
      "cell_type": "markdown",
      "source": [
        "## Загружаем данные:"
      ],
      "metadata": {
        "id": "yFHVGQKXzmOf"
      }
    },
    {
      "cell_type": "code",
      "source": [
        "train_path = 'https://raw.githubusercontent.com/akitim/datasets/main/ligand_activity_prediction/train.csv'\n",
        "test_path = 'https://raw.githubusercontent.com/akitim/datasets/main/ligand_activity_prediction/test.csv'\n",
        "\n",
        "train = pd.read_csv(train_path)\n",
        "# train = pd.read_csv('/content/train.csv')\n",
        "test = pd.read_csv(test_path)\n",
        "# test = pd.read_csv('/content/test.csv')\n",
        "\n",
        "train.sample(5)"
      ],
      "metadata": {
        "colab": {
          "base_uri": "https://localhost:8080/",
          "height": 206
        },
        "id": "DMuB10jTC5hF",
        "outputId": "f4c41c58-62bb-450f-bd9d-bce0a49e13f9"
      },
      "execution_count": 221,
      "outputs": [
        {
          "output_type": "execute_result",
          "data": {
            "text/html": [
              "\n",
              "  <div id=\"df-43b5bffe-3207-4292-aaef-5ad8da13911c\">\n",
              "    <div class=\"colab-df-container\">\n",
              "      <div>\n",
              "<style scoped>\n",
              "    .dataframe tbody tr th:only-of-type {\n",
              "        vertical-align: middle;\n",
              "    }\n",
              "\n",
              "    .dataframe tbody tr th {\n",
              "        vertical-align: top;\n",
              "    }\n",
              "\n",
              "    .dataframe thead th {\n",
              "        text-align: right;\n",
              "    }\n",
              "</style>\n",
              "<table border=\"1\" class=\"dataframe\">\n",
              "  <thead>\n",
              "    <tr style=\"text-align: right;\">\n",
              "      <th></th>\n",
              "      <th>Unnamed: 0</th>\n",
              "      <th>Smiles</th>\n",
              "      <th>Active</th>\n",
              "    </tr>\n",
              "  </thead>\n",
              "  <tbody>\n",
              "    <tr>\n",
              "      <th>4089</th>\n",
              "      <td>4089</td>\n",
              "      <td>Br.CN1[C@H]2C[C@H](OC(=O)[C@H](CO)c3ccccc3)C[C...</td>\n",
              "      <td>False</td>\n",
              "    </tr>\n",
              "    <tr>\n",
              "      <th>1124</th>\n",
              "      <td>1124</td>\n",
              "      <td>CN1C2CCC1CC(OC(c1ccc(F)cc1)c1ccc(F)cc1)C2.Cl</td>\n",
              "      <td>False</td>\n",
              "    </tr>\n",
              "    <tr>\n",
              "      <th>4080</th>\n",
              "      <td>4080</td>\n",
              "      <td>O=c1[nH]c(=O)n([C@H]2C[C@H](O)[C@@H](CO)O2)cc1...</td>\n",
              "      <td>False</td>\n",
              "    </tr>\n",
              "    <tr>\n",
              "      <th>3085</th>\n",
              "      <td>3085</td>\n",
              "      <td>CNC(=O)[C@H]1O[C@@H](n2cnc3c(NCc4cccc(I)c4)ncn...</td>\n",
              "      <td>False</td>\n",
              "    </tr>\n",
              "    <tr>\n",
              "      <th>576</th>\n",
              "      <td>576</td>\n",
              "      <td>O=c1c(-c2ccc(O)cc2)coc2cc(O[C@@H]3O[C@H](CO)[C...</td>\n",
              "      <td>False</td>\n",
              "    </tr>\n",
              "  </tbody>\n",
              "</table>\n",
              "</div>\n",
              "      <button class=\"colab-df-convert\" onclick=\"convertToInteractive('df-43b5bffe-3207-4292-aaef-5ad8da13911c')\"\n",
              "              title=\"Convert this dataframe to an interactive table.\"\n",
              "              style=\"display:none;\">\n",
              "        \n",
              "  <svg xmlns=\"http://www.w3.org/2000/svg\" height=\"24px\"viewBox=\"0 0 24 24\"\n",
              "       width=\"24px\">\n",
              "    <path d=\"M0 0h24v24H0V0z\" fill=\"none\"/>\n",
              "    <path d=\"M18.56 5.44l.94 2.06.94-2.06 2.06-.94-2.06-.94-.94-2.06-.94 2.06-2.06.94zm-11 1L8.5 8.5l.94-2.06 2.06-.94-2.06-.94L8.5 2.5l-.94 2.06-2.06.94zm10 10l.94 2.06.94-2.06 2.06-.94-2.06-.94-.94-2.06-.94 2.06-2.06.94z\"/><path d=\"M17.41 7.96l-1.37-1.37c-.4-.4-.92-.59-1.43-.59-.52 0-1.04.2-1.43.59L10.3 9.45l-7.72 7.72c-.78.78-.78 2.05 0 2.83L4 21.41c.39.39.9.59 1.41.59.51 0 1.02-.2 1.41-.59l7.78-7.78 2.81-2.81c.8-.78.8-2.07 0-2.86zM5.41 20L4 18.59l7.72-7.72 1.47 1.35L5.41 20z\"/>\n",
              "  </svg>\n",
              "      </button>\n",
              "      \n",
              "  <style>\n",
              "    .colab-df-container {\n",
              "      display:flex;\n",
              "      flex-wrap:wrap;\n",
              "      gap: 12px;\n",
              "    }\n",
              "\n",
              "    .colab-df-convert {\n",
              "      background-color: #E8F0FE;\n",
              "      border: none;\n",
              "      border-radius: 50%;\n",
              "      cursor: pointer;\n",
              "      display: none;\n",
              "      fill: #1967D2;\n",
              "      height: 32px;\n",
              "      padding: 0 0 0 0;\n",
              "      width: 32px;\n",
              "    }\n",
              "\n",
              "    .colab-df-convert:hover {\n",
              "      background-color: #E2EBFA;\n",
              "      box-shadow: 0px 1px 2px rgba(60, 64, 67, 0.3), 0px 1px 3px 1px rgba(60, 64, 67, 0.15);\n",
              "      fill: #174EA6;\n",
              "    }\n",
              "\n",
              "    [theme=dark] .colab-df-convert {\n",
              "      background-color: #3B4455;\n",
              "      fill: #D2E3FC;\n",
              "    }\n",
              "\n",
              "    [theme=dark] .colab-df-convert:hover {\n",
              "      background-color: #434B5C;\n",
              "      box-shadow: 0px 1px 3px 1px rgba(0, 0, 0, 0.15);\n",
              "      filter: drop-shadow(0px 1px 2px rgba(0, 0, 0, 0.3));\n",
              "      fill: #FFFFFF;\n",
              "    }\n",
              "  </style>\n",
              "\n",
              "      <script>\n",
              "        const buttonEl =\n",
              "          document.querySelector('#df-43b5bffe-3207-4292-aaef-5ad8da13911c button.colab-df-convert');\n",
              "        buttonEl.style.display =\n",
              "          google.colab.kernel.accessAllowed ? 'block' : 'none';\n",
              "\n",
              "        async function convertToInteractive(key) {\n",
              "          const element = document.querySelector('#df-43b5bffe-3207-4292-aaef-5ad8da13911c');\n",
              "          const dataTable =\n",
              "            await google.colab.kernel.invokeFunction('convertToInteractive',\n",
              "                                                     [key], {});\n",
              "          if (!dataTable) return;\n",
              "\n",
              "          const docLinkHtml = 'Like what you see? Visit the ' +\n",
              "            '<a target=\"_blank\" href=https://colab.research.google.com/notebooks/data_table.ipynb>data table notebook</a>'\n",
              "            + ' to learn more about interactive tables.';\n",
              "          element.innerHTML = '';\n",
              "          dataTable['output_type'] = 'display_data';\n",
              "          await google.colab.output.renderOutput(dataTable, element);\n",
              "          const docLink = document.createElement('div');\n",
              "          docLink.innerHTML = docLinkHtml;\n",
              "          element.appendChild(docLink);\n",
              "        }\n",
              "      </script>\n",
              "    </div>\n",
              "  </div>\n",
              "  "
            ],
            "text/plain": [
              "      Unnamed: 0                                             Smiles  Active\n",
              "4089        4089  Br.CN1[C@H]2C[C@H](OC(=O)[C@H](CO)c3ccccc3)C[C...   False\n",
              "1124        1124       CN1C2CCC1CC(OC(c1ccc(F)cc1)c1ccc(F)cc1)C2.Cl   False\n",
              "4080        4080  O=c1[nH]c(=O)n([C@H]2C[C@H](O)[C@@H](CO)O2)cc1...   False\n",
              "3085        3085  CNC(=O)[C@H]1O[C@@H](n2cnc3c(NCc4cccc(I)c4)ncn...   False\n",
              "576          576  O=c1c(-c2ccc(O)cc2)coc2cc(O[C@@H]3O[C@H](CO)[C...   False"
            ]
          },
          "metadata": {},
          "execution_count": 221
        }
      ]
    },
    {
      "cell_type": "code",
      "source": [
        "train = train.loc[:, ['Smiles', 'Active']]\n",
        "train.columns = ['smiles', 'active']\n",
        "train['is_test'] = False\n",
        "# train['active'] = train['active'].astype('int32')\n",
        "\n",
        "test = test.loc[:, ['Smiles']]\n",
        "test['active'] = None #pd.NA().nan\n",
        "test.columns = ['smiles', 'active']\n",
        "test['is_test'] = True\n",
        "\n",
        "data = pd.concat([train, test]).reset_index(drop=True)"
      ],
      "metadata": {
        "id": "2cPpX6Uvf94A"
      },
      "execution_count": 222,
      "outputs": []
    },
    {
      "cell_type": "code",
      "source": [
        "data.sample(5)"
      ],
      "metadata": {
        "colab": {
          "base_uri": "https://localhost:8080/",
          "height": 206
        },
        "id": "HQZhUqqMj32z",
        "outputId": "d5c4d2a7-55ab-4a1b-f7b9-4ff2b857829a"
      },
      "execution_count": 26,
      "outputs": [
        {
          "output_type": "execute_result",
          "data": {
            "text/html": [
              "\n",
              "  <div id=\"df-7c6a4d30-04d2-4a2d-b5d2-5a3843a9e994\">\n",
              "    <div class=\"colab-df-container\">\n",
              "      <div>\n",
              "<style scoped>\n",
              "    .dataframe tbody tr th:only-of-type {\n",
              "        vertical-align: middle;\n",
              "    }\n",
              "\n",
              "    .dataframe tbody tr th {\n",
              "        vertical-align: top;\n",
              "    }\n",
              "\n",
              "    .dataframe thead th {\n",
              "        text-align: right;\n",
              "    }\n",
              "</style>\n",
              "<table border=\"1\" class=\"dataframe\">\n",
              "  <thead>\n",
              "    <tr style=\"text-align: right;\">\n",
              "      <th></th>\n",
              "      <th>smiles</th>\n",
              "      <th>active</th>\n",
              "      <th>is_test</th>\n",
              "    </tr>\n",
              "  </thead>\n",
              "  <tbody>\n",
              "    <tr>\n",
              "      <th>1881</th>\n",
              "      <td>C=C(C)[C@H]1CN[C@H](C(=O)O)[C@H]1CC(=O)O</td>\n",
              "      <td>0.0</td>\n",
              "      <td>False</td>\n",
              "    </tr>\n",
              "    <tr>\n",
              "      <th>6460</th>\n",
              "      <td>CN(C)CCOC1=Cc2ccccc2Sc2ccc(Cl)cc21</td>\n",
              "      <td>NaN</td>\n",
              "      <td>True</td>\n",
              "    </tr>\n",
              "    <tr>\n",
              "      <th>1286</th>\n",
              "      <td>O=S(=O)(NCC1CC1)c1ccc(Nc2nccc(N3CCCc4cc(O)ccc4...</td>\n",
              "      <td>0.0</td>\n",
              "      <td>False</td>\n",
              "    </tr>\n",
              "    <tr>\n",
              "      <th>4561</th>\n",
              "      <td>NC(=O)CN1CC[C@@H](NC(=O)[C@@H]2CCCN2)C1=O</td>\n",
              "      <td>0.0</td>\n",
              "      <td>False</td>\n",
              "    </tr>\n",
              "    <tr>\n",
              "      <th>6101</th>\n",
              "      <td>Cc1sc2c(c1C)C(c1ccc(Cl)cc1)=N[C@@H](CC(N)=O)c1...</td>\n",
              "      <td>NaN</td>\n",
              "      <td>True</td>\n",
              "    </tr>\n",
              "  </tbody>\n",
              "</table>\n",
              "</div>\n",
              "      <button class=\"colab-df-convert\" onclick=\"convertToInteractive('df-7c6a4d30-04d2-4a2d-b5d2-5a3843a9e994')\"\n",
              "              title=\"Convert this dataframe to an interactive table.\"\n",
              "              style=\"display:none;\">\n",
              "        \n",
              "  <svg xmlns=\"http://www.w3.org/2000/svg\" height=\"24px\"viewBox=\"0 0 24 24\"\n",
              "       width=\"24px\">\n",
              "    <path d=\"M0 0h24v24H0V0z\" fill=\"none\"/>\n",
              "    <path d=\"M18.56 5.44l.94 2.06.94-2.06 2.06-.94-2.06-.94-.94-2.06-.94 2.06-2.06.94zm-11 1L8.5 8.5l.94-2.06 2.06-.94-2.06-.94L8.5 2.5l-.94 2.06-2.06.94zm10 10l.94 2.06.94-2.06 2.06-.94-2.06-.94-.94-2.06-.94 2.06-2.06.94z\"/><path d=\"M17.41 7.96l-1.37-1.37c-.4-.4-.92-.59-1.43-.59-.52 0-1.04.2-1.43.59L10.3 9.45l-7.72 7.72c-.78.78-.78 2.05 0 2.83L4 21.41c.39.39.9.59 1.41.59.51 0 1.02-.2 1.41-.59l7.78-7.78 2.81-2.81c.8-.78.8-2.07 0-2.86zM5.41 20L4 18.59l7.72-7.72 1.47 1.35L5.41 20z\"/>\n",
              "  </svg>\n",
              "      </button>\n",
              "      \n",
              "  <style>\n",
              "    .colab-df-container {\n",
              "      display:flex;\n",
              "      flex-wrap:wrap;\n",
              "      gap: 12px;\n",
              "    }\n",
              "\n",
              "    .colab-df-convert {\n",
              "      background-color: #E8F0FE;\n",
              "      border: none;\n",
              "      border-radius: 50%;\n",
              "      cursor: pointer;\n",
              "      display: none;\n",
              "      fill: #1967D2;\n",
              "      height: 32px;\n",
              "      padding: 0 0 0 0;\n",
              "      width: 32px;\n",
              "    }\n",
              "\n",
              "    .colab-df-convert:hover {\n",
              "      background-color: #E2EBFA;\n",
              "      box-shadow: 0px 1px 2px rgba(60, 64, 67, 0.3), 0px 1px 3px 1px rgba(60, 64, 67, 0.15);\n",
              "      fill: #174EA6;\n",
              "    }\n",
              "\n",
              "    [theme=dark] .colab-df-convert {\n",
              "      background-color: #3B4455;\n",
              "      fill: #D2E3FC;\n",
              "    }\n",
              "\n",
              "    [theme=dark] .colab-df-convert:hover {\n",
              "      background-color: #434B5C;\n",
              "      box-shadow: 0px 1px 3px 1px rgba(0, 0, 0, 0.15);\n",
              "      filter: drop-shadow(0px 1px 2px rgba(0, 0, 0, 0.3));\n",
              "      fill: #FFFFFF;\n",
              "    }\n",
              "  </style>\n",
              "\n",
              "      <script>\n",
              "        const buttonEl =\n",
              "          document.querySelector('#df-7c6a4d30-04d2-4a2d-b5d2-5a3843a9e994 button.colab-df-convert');\n",
              "        buttonEl.style.display =\n",
              "          google.colab.kernel.accessAllowed ? 'block' : 'none';\n",
              "\n",
              "        async function convertToInteractive(key) {\n",
              "          const element = document.querySelector('#df-7c6a4d30-04d2-4a2d-b5d2-5a3843a9e994');\n",
              "          const dataTable =\n",
              "            await google.colab.kernel.invokeFunction('convertToInteractive',\n",
              "                                                     [key], {});\n",
              "          if (!dataTable) return;\n",
              "\n",
              "          const docLinkHtml = 'Like what you see? Visit the ' +\n",
              "            '<a target=\"_blank\" href=https://colab.research.google.com/notebooks/data_table.ipynb>data table notebook</a>'\n",
              "            + ' to learn more about interactive tables.';\n",
              "          element.innerHTML = '';\n",
              "          dataTable['output_type'] = 'display_data';\n",
              "          await google.colab.output.renderOutput(dataTable, element);\n",
              "          const docLink = document.createElement('div');\n",
              "          docLink.innerHTML = docLinkHtml;\n",
              "          element.appendChild(docLink);\n",
              "        }\n",
              "      </script>\n",
              "    </div>\n",
              "  </div>\n",
              "  "
            ],
            "text/plain": [
              "                                                 smiles  active  is_test\n",
              "1881           C=C(C)[C@H]1CN[C@H](C(=O)O)[C@H]1CC(=O)O     0.0    False\n",
              "6460                 CN(C)CCOC1=Cc2ccccc2Sc2ccc(Cl)cc21     NaN     True\n",
              "1286  O=S(=O)(NCC1CC1)c1ccc(Nc2nccc(N3CCCc4cc(O)ccc4...     0.0    False\n",
              "4561          NC(=O)CN1CC[C@@H](NC(=O)[C@@H]2CCCN2)C1=O     0.0    False\n",
              "6101  Cc1sc2c(c1C)C(c1ccc(Cl)cc1)=N[C@@H](CC(N)=O)c1...     NaN     True"
            ]
          },
          "metadata": {},
          "execution_count": 26
        }
      ]
    },
    {
      "cell_type": "code",
      "source": [
        "train.shape, test.shape"
      ],
      "metadata": {
        "colab": {
          "base_uri": "https://localhost:8080/"
        },
        "id": "-KMlz1_3H5Id",
        "outputId": "fbbd35bc-5a7e-4c0d-918e-ff5759f072f2"
      },
      "execution_count": 83,
      "outputs": [
        {
          "output_type": "execute_result",
          "data": {
            "text/plain": [
              "((5557, 3), (1614, 3))"
            ]
          },
          "metadata": {},
          "execution_count": 83
        }
      ]
    },
    {
      "cell_type": "code",
      "source": [
        "active_ind = train.groupby('active').groups[1]\n",
        "not_active_ind = train.groupby('active').groups[0]\n",
        "print(f\"Active: {active_ind.size}\\n\\\n",
        "Not active: {not_active_ind.size}\")"
      ],
      "metadata": {
        "colab": {
          "base_uri": "https://localhost:8080/"
        },
        "id": "6h2o_MQkFOXb",
        "outputId": "4d316b91-d90f-4160-c73a-165c4ae9c7ca"
      },
      "execution_count": 84,
      "outputs": [
        {
          "output_type": "stream",
          "name": "stdout",
          "text": [
            "Active: 206\n",
            "Not active: 5351\n"
          ]
        }
      ]
    },
    {
      "cell_type": "markdown",
      "source": [
        "## Модель 0 (random baseline)"
      ],
      "metadata": {
        "id": "jkgH0YyI0CJt"
      }
    },
    {
      "cell_type": "code",
      "source": [
        "# submission = test.copy()\n",
        "# submission['Active'] = (np.random.rand(test.shape[0]) <= 206 / 5351)\n",
        "# #(np.random.rand(test.shape[0]) <= 206 / 5351) #.astype('int32')\n",
        "# test.loc[test['Active'], 'Active'].count() / test.shape[0]\n",
        "# submission.to_csv('submission.csv')\n"
      ],
      "metadata": {
        "id": "i1ks5BDLplWy"
      },
      "execution_count": 30,
      "outputs": []
    },
    {
      "cell_type": "markdown",
      "source": [
        "## Предобработка"
      ],
      "metadata": {
        "id": "o0i5MvNyvOCk"
      }
    },
    {
      "cell_type": "code",
      "source": [
        "# import re\n",
        "def replace_from_ls(str_, ls):\n",
        "    new_str_ = str_\n",
        "    for s in ls:\n",
        "        new_str_ = new_str_.replace(s, '')\n",
        "    return new_str_\n",
        "\n",
        "salt_ion_list = ['.[Na+]', '.[K+]', '.[Li+]', '.[Ca+2]', '.[Ba+2]', '.[Sr2+]',\n",
        "                 '.[I-]', '.[Cl-]', '.[Mg+2]', '.[Zn+2]', '.[N+]([O-])[O-]' ]\n",
        "\n",
        "salt_ion_mask = data['smiles'].apply(lambda m: any(a in m for a in salt_ion_list))\n",
        "data.loc[salt_ion_mask, 'smiles'] = \\\n",
        "    data.loc[salt_ion_mask, 'smiles']\\\n",
        "    .apply(lambda s: replace_from_ls(s, salt_ion_list))\n",
        "data.loc[salt_ion_mask, 'smiles']\n",
        "data.loc[data['smiles'].apply(lambda m: any(a in m for a in ['.Br', 'Br.','.Cl', 'Cl.', '.I', 'I.']))]\n",
        "# data.loc[data['smiles'].apply(lambda m: all(a not in m for a in ['c', 'C'])), ['smiles', 'active']]\n",
        "# salt_ion_list = ['].[']"
      ],
      "metadata": {
        "colab": {
          "base_uri": "https://localhost:8080/",
          "height": 49
        },
        "id": "5QlCozwTzmrC",
        "outputId": "01375c3c-3a5d-4ac5-8f84-f549dc23cf9c"
      },
      "execution_count": 244,
      "outputs": [
        {
          "output_type": "execute_result",
          "data": {
            "text/html": [
              "\n",
              "  <div id=\"df-30ed4928-4f65-4b94-b16d-a37bccb3d527\">\n",
              "    <div class=\"colab-df-container\">\n",
              "      <div>\n",
              "<style scoped>\n",
              "    .dataframe tbody tr th:only-of-type {\n",
              "        vertical-align: middle;\n",
              "    }\n",
              "\n",
              "    .dataframe tbody tr th {\n",
              "        vertical-align: top;\n",
              "    }\n",
              "\n",
              "    .dataframe thead th {\n",
              "        text-align: right;\n",
              "    }\n",
              "</style>\n",
              "<table border=\"1\" class=\"dataframe\">\n",
              "  <thead>\n",
              "    <tr style=\"text-align: right;\">\n",
              "      <th></th>\n",
              "      <th>smiles</th>\n",
              "      <th>active</th>\n",
              "      <th>is_test</th>\n",
              "    </tr>\n",
              "  </thead>\n",
              "  <tbody>\n",
              "  </tbody>\n",
              "</table>\n",
              "</div>\n",
              "      <button class=\"colab-df-convert\" onclick=\"convertToInteractive('df-30ed4928-4f65-4b94-b16d-a37bccb3d527')\"\n",
              "              title=\"Convert this dataframe to an interactive table.\"\n",
              "              style=\"display:none;\">\n",
              "        \n",
              "  <svg xmlns=\"http://www.w3.org/2000/svg\" height=\"24px\"viewBox=\"0 0 24 24\"\n",
              "       width=\"24px\">\n",
              "    <path d=\"M0 0h24v24H0V0z\" fill=\"none\"/>\n",
              "    <path d=\"M18.56 5.44l.94 2.06.94-2.06 2.06-.94-2.06-.94-.94-2.06-.94 2.06-2.06.94zm-11 1L8.5 8.5l.94-2.06 2.06-.94-2.06-.94L8.5 2.5l-.94 2.06-2.06.94zm10 10l.94 2.06.94-2.06 2.06-.94-2.06-.94-.94-2.06-.94 2.06-2.06.94z\"/><path d=\"M17.41 7.96l-1.37-1.37c-.4-.4-.92-.59-1.43-.59-.52 0-1.04.2-1.43.59L10.3 9.45l-7.72 7.72c-.78.78-.78 2.05 0 2.83L4 21.41c.39.39.9.59 1.41.59.51 0 1.02-.2 1.41-.59l7.78-7.78 2.81-2.81c.8-.78.8-2.07 0-2.86zM5.41 20L4 18.59l7.72-7.72 1.47 1.35L5.41 20z\"/>\n",
              "  </svg>\n",
              "      </button>\n",
              "      \n",
              "  <style>\n",
              "    .colab-df-container {\n",
              "      display:flex;\n",
              "      flex-wrap:wrap;\n",
              "      gap: 12px;\n",
              "    }\n",
              "\n",
              "    .colab-df-convert {\n",
              "      background-color: #E8F0FE;\n",
              "      border: none;\n",
              "      border-radius: 50%;\n",
              "      cursor: pointer;\n",
              "      display: none;\n",
              "      fill: #1967D2;\n",
              "      height: 32px;\n",
              "      padding: 0 0 0 0;\n",
              "      width: 32px;\n",
              "    }\n",
              "\n",
              "    .colab-df-convert:hover {\n",
              "      background-color: #E2EBFA;\n",
              "      box-shadow: 0px 1px 2px rgba(60, 64, 67, 0.3), 0px 1px 3px 1px rgba(60, 64, 67, 0.15);\n",
              "      fill: #174EA6;\n",
              "    }\n",
              "\n",
              "    [theme=dark] .colab-df-convert {\n",
              "      background-color: #3B4455;\n",
              "      fill: #D2E3FC;\n",
              "    }\n",
              "\n",
              "    [theme=dark] .colab-df-convert:hover {\n",
              "      background-color: #434B5C;\n",
              "      box-shadow: 0px 1px 3px 1px rgba(0, 0, 0, 0.15);\n",
              "      filter: drop-shadow(0px 1px 2px rgba(0, 0, 0, 0.3));\n",
              "      fill: #FFFFFF;\n",
              "    }\n",
              "  </style>\n",
              "\n",
              "      <script>\n",
              "        const buttonEl =\n",
              "          document.querySelector('#df-30ed4928-4f65-4b94-b16d-a37bccb3d527 button.colab-df-convert');\n",
              "        buttonEl.style.display =\n",
              "          google.colab.kernel.accessAllowed ? 'block' : 'none';\n",
              "\n",
              "        async function convertToInteractive(key) {\n",
              "          const element = document.querySelector('#df-30ed4928-4f65-4b94-b16d-a37bccb3d527');\n",
              "          const dataTable =\n",
              "            await google.colab.kernel.invokeFunction('convertToInteractive',\n",
              "                                                     [key], {});\n",
              "          if (!dataTable) return;\n",
              "\n",
              "          const docLinkHtml = 'Like what you see? Visit the ' +\n",
              "            '<a target=\"_blank\" href=https://colab.research.google.com/notebooks/data_table.ipynb>data table notebook</a>'\n",
              "            + ' to learn more about interactive tables.';\n",
              "          element.innerHTML = '';\n",
              "          dataTable['output_type'] = 'display_data';\n",
              "          await google.colab.output.renderOutput(dataTable, element);\n",
              "          const docLink = document.createElement('div');\n",
              "          docLink.innerHTML = docLinkHtml;\n",
              "          element.appendChild(docLink);\n",
              "        }\n",
              "      </script>\n",
              "    </div>\n",
              "  </div>\n",
              "  "
            ],
            "text/plain": [
              "Empty DataFrame\n",
              "Columns: [smiles, active, is_test]\n",
              "Index: []"
            ]
          },
          "metadata": {},
          "execution_count": 244
        }
      ]
    },
    {
      "cell_type": "markdown",
      "source": [
        "## Генерация новых признаков"
      ],
      "metadata": {
        "id": "RsNljhFpnOz3"
      }
    },
    {
      "cell_type": "code",
      "source": [
        "def num_of_(df, atom) -> pd.DataFrame:\n",
        "    df_ = df.copy()\n",
        "    df_[atom] = df_['smiles'].apply(lambda smpl: smpl.count(atom))\n",
        "    return df_    \n",
        "\n",
        "data['MW'] = data['smiles'].apply(lambda x:\n",
        "                                  np.round(MolWt(Chem.MolFromSmiles(x)), 1))\n",
        "\n",
        "atoms = ['C', 'c', 'O', 'o', 'N', 'N+', 'n', 'P', 'p',\n",
        "         'S', 's', 'Cl', 'Br', 'F', '(']\n",
        "for a in atoms:\n",
        "    data = num_of_(data, a)"
      ],
      "metadata": {
        "id": "QB1hu7OsAg-_"
      },
      "execution_count": 108,
      "outputs": []
    },
    {
      "cell_type": "code",
      "source": [
        "RND_SEED = 42\n",
        "\n",
        "# стандартизируем ВСЕ данные, опираясь на параметры тренировочной выборки\n",
        "# меняем data!!!\n",
        "\n",
        "std_scaler = StandardScaler()\n",
        "std_scaler.fit(data[~data['is_test']]\n",
        "               .drop(['is_test', 'smiles', 'active'], axis=1))\n",
        "\n",
        "X_total = data.drop(['is_test', 'smiles', 'active'], axis=1)\n",
        "X_total.loc[:,:] = std_scaler.transform(X_total)\n",
        "data.loc[:, ~data.columns.isin(['is_test', 'smiles', 'active'])] = X_total\n",
        "\n",
        "# разбиваем датасет на тренировку и валидацию\n",
        "X = data[~data['is_test']].drop(['is_test', 'smiles', 'active'], axis=1)\n",
        "y = data.loc[~data['is_test'], 'active']\n",
        "\n",
        "X_train, X_val, y_train, y_val = train_test_split(X, y,\n",
        "                                                  test_size=0.2,\n",
        "                                                  random_state=RND_SEED)"
      ],
      "metadata": {
        "id": "HeMfvgh-r0kc"
      },
      "execution_count": 10,
      "outputs": []
    },
    {
      "cell_type": "markdown",
      "source": [
        "## Логрегрессия и случайный лес"
      ],
      "metadata": {
        "id": "aOtIjKE7AiLu"
      }
    },
    {
      "cell_type": "code",
      "source": [
        "RND_SEED = 42\n",
        "\n",
        "lrgr = LogisticRegression(random_state=RND_SEED,\n",
        "                          n_jobs=-1, \n",
        "                          class_weight='balanced',\n",
        "                          max_iter=500)\n",
        "lrgr.fit(X_train, y_train)\n",
        "y_pred_lrgr = lrgr.predict(X_val)\n",
        "\n",
        "# y_pred_lrgr = ~y_pred_lrgr.astype(bool)\n",
        "f1_lrgr = f1_score(y_val, y_pred_lrgr)\n",
        "\n",
        "rfc = RandomForestClassifier(n_estimators=1000, criterion=\"entropy\",\n",
        "                             max_depth=60, min_samples_leaf=4,\n",
        "                             min_samples_split=2,\n",
        "                             max_features=None, bootstrap=True,\n",
        "                             n_jobs=-1, random_state=RND_SEED,\n",
        "                             class_weight='balanced')\n",
        "rfc.fit(X_train, y_train)\n",
        "y_pred_rfc = rfc.predict(X_val)\n",
        "# y_pred_rfc = ~y_pred_rfc.astype(bool)\n",
        "\n",
        "f1_rfc = f1_score(y_val, y_pred_rfc)\n",
        "f1_lrgr, f1_rfc"
      ],
      "metadata": {
        "colab": {
          "base_uri": "https://localhost:8080/"
        },
        "id": "n3yp6pnAUahu",
        "outputId": "742a2d6d-1084-48e0-88b9-1d30c8b7121e"
      },
      "execution_count": 111,
      "outputs": [
        {
          "output_type": "execute_result",
          "data": {
            "text/plain": [
              "(0.0990990990990991, 0.1111111111111111)"
            ]
          },
          "metadata": {},
          "execution_count": 111
        }
      ]
    },
    {
      "cell_type": "markdown",
      "source": [
        "## Submission LogRegression"
      ],
      "metadata": {
        "id": "nrDjcrK65nBb"
      }
    },
    {
      "cell_type": "code",
      "source": [
        "submission = test.drop(['is_test', 'active'], axis=1).copy()\n",
        "\n",
        "X_test = data[data['is_test'] == 1].drop(['is_test', 'smiles', 'active'], axis=1)\n",
        "y_pred_test = lrgr.predict(X_test)\n",
        "\n",
        "submission['Active'] = y_pred_test\n",
        "submission.columns = ['Smiles', 'Active']\n",
        "submission\n",
        "\n",
        "# #(np.random.rand(test.shape[0]) <= 206 / 5351) #.astype('int32')\n",
        "# test.loc[test['Active'], 'Active'].count() / test.shape[0]\n",
        "# submission.to_csv('submission.csv')"
      ],
      "metadata": {
        "colab": {
          "base_uri": "https://localhost:8080/",
          "height": 424
        },
        "id": "MPyAf2IhOm9_",
        "outputId": "4158e830-6c26-44cf-e97e-8736061c94cb"
      },
      "execution_count": null,
      "outputs": [
        {
          "output_type": "execute_result",
          "data": {
            "text/html": [
              "\n",
              "  <div id=\"df-918a9bea-4a59-42a3-813a-e99624220047\">\n",
              "    <div class=\"colab-df-container\">\n",
              "      <div>\n",
              "<style scoped>\n",
              "    .dataframe tbody tr th:only-of-type {\n",
              "        vertical-align: middle;\n",
              "    }\n",
              "\n",
              "    .dataframe tbody tr th {\n",
              "        vertical-align: top;\n",
              "    }\n",
              "\n",
              "    .dataframe thead th {\n",
              "        text-align: right;\n",
              "    }\n",
              "</style>\n",
              "<table border=\"1\" class=\"dataframe\">\n",
              "  <thead>\n",
              "    <tr style=\"text-align: right;\">\n",
              "      <th></th>\n",
              "      <th>Smiles</th>\n",
              "      <th>Active</th>\n",
              "    </tr>\n",
              "  </thead>\n",
              "  <tbody>\n",
              "    <tr>\n",
              "      <th>0</th>\n",
              "      <td>COC(=O)Nc1ccc(-c2nc(N3CCOCC3)c3cnn(C4CCN(Cc5cc...</td>\n",
              "      <td>False</td>\n",
              "    </tr>\n",
              "    <tr>\n",
              "      <th>1</th>\n",
              "      <td>O=Cc1cn(Cc2ccc(Cl)cc2)c2ccccc12</td>\n",
              "      <td>True</td>\n",
              "    </tr>\n",
              "    <tr>\n",
              "      <th>2</th>\n",
              "      <td>NC(CO)C(=O)NNCc1ccc(O)c(O)c1O</td>\n",
              "      <td>False</td>\n",
              "    </tr>\n",
              "    <tr>\n",
              "      <th>3</th>\n",
              "      <td>Nc1nc(=O)n([C@H]2C[C@H](O)[C@@H](CO)O2)cc1Cl</td>\n",
              "      <td>False</td>\n",
              "    </tr>\n",
              "    <tr>\n",
              "      <th>4</th>\n",
              "      <td>Nc1ccc(C(=O)Nc2cccc(-c3nc(N4CCOCC4)c4oc5ncccc5...</td>\n",
              "      <td>True</td>\n",
              "    </tr>\n",
              "    <tr>\n",
              "      <th>...</th>\n",
              "      <td>...</td>\n",
              "      <td>...</td>\n",
              "    </tr>\n",
              "    <tr>\n",
              "      <th>1609</th>\n",
              "      <td>NS(=O)(=O)c1cc2c(cc1Cl)NC(C1CC3C=CC1C3)NS2(=O)=O</td>\n",
              "      <td>True</td>\n",
              "    </tr>\n",
              "    <tr>\n",
              "      <th>1610</th>\n",
              "      <td>Cc1cccc(Nc2ccncc2S(=O)(=O)NC(=O)NC(C)C)c1</td>\n",
              "      <td>True</td>\n",
              "    </tr>\n",
              "    <tr>\n",
              "      <th>1611</th>\n",
              "      <td>CCCC(=O)O[C@]1(C(=O)CO)CC[C@H]2[C@@H]3CCC4=CC(...</td>\n",
              "      <td>False</td>\n",
              "    </tr>\n",
              "    <tr>\n",
              "      <th>1612</th>\n",
              "      <td>CN(C)c1cccc(Oc2cnc(Nc3cccc(O)c3)nc2)c1</td>\n",
              "      <td>True</td>\n",
              "    </tr>\n",
              "    <tr>\n",
              "      <th>1613</th>\n",
              "      <td>O=C(O)c1ccccc1-c1c2ccc(=O)cc-2oc2cc(O)ccc12</td>\n",
              "      <td>True</td>\n",
              "    </tr>\n",
              "  </tbody>\n",
              "</table>\n",
              "<p>1614 rows × 2 columns</p>\n",
              "</div>\n",
              "      <button class=\"colab-df-convert\" onclick=\"convertToInteractive('df-918a9bea-4a59-42a3-813a-e99624220047')\"\n",
              "              title=\"Convert this dataframe to an interactive table.\"\n",
              "              style=\"display:none;\">\n",
              "        \n",
              "  <svg xmlns=\"http://www.w3.org/2000/svg\" height=\"24px\"viewBox=\"0 0 24 24\"\n",
              "       width=\"24px\">\n",
              "    <path d=\"M0 0h24v24H0V0z\" fill=\"none\"/>\n",
              "    <path d=\"M18.56 5.44l.94 2.06.94-2.06 2.06-.94-2.06-.94-.94-2.06-.94 2.06-2.06.94zm-11 1L8.5 8.5l.94-2.06 2.06-.94-2.06-.94L8.5 2.5l-.94 2.06-2.06.94zm10 10l.94 2.06.94-2.06 2.06-.94-2.06-.94-.94-2.06-.94 2.06-2.06.94z\"/><path d=\"M17.41 7.96l-1.37-1.37c-.4-.4-.92-.59-1.43-.59-.52 0-1.04.2-1.43.59L10.3 9.45l-7.72 7.72c-.78.78-.78 2.05 0 2.83L4 21.41c.39.39.9.59 1.41.59.51 0 1.02-.2 1.41-.59l7.78-7.78 2.81-2.81c.8-.78.8-2.07 0-2.86zM5.41 20L4 18.59l7.72-7.72 1.47 1.35L5.41 20z\"/>\n",
              "  </svg>\n",
              "      </button>\n",
              "      \n",
              "  <style>\n",
              "    .colab-df-container {\n",
              "      display:flex;\n",
              "      flex-wrap:wrap;\n",
              "      gap: 12px;\n",
              "    }\n",
              "\n",
              "    .colab-df-convert {\n",
              "      background-color: #E8F0FE;\n",
              "      border: none;\n",
              "      border-radius: 50%;\n",
              "      cursor: pointer;\n",
              "      display: none;\n",
              "      fill: #1967D2;\n",
              "      height: 32px;\n",
              "      padding: 0 0 0 0;\n",
              "      width: 32px;\n",
              "    }\n",
              "\n",
              "    .colab-df-convert:hover {\n",
              "      background-color: #E2EBFA;\n",
              "      box-shadow: 0px 1px 2px rgba(60, 64, 67, 0.3), 0px 1px 3px 1px rgba(60, 64, 67, 0.15);\n",
              "      fill: #174EA6;\n",
              "    }\n",
              "\n",
              "    [theme=dark] .colab-df-convert {\n",
              "      background-color: #3B4455;\n",
              "      fill: #D2E3FC;\n",
              "    }\n",
              "\n",
              "    [theme=dark] .colab-df-convert:hover {\n",
              "      background-color: #434B5C;\n",
              "      box-shadow: 0px 1px 3px 1px rgba(0, 0, 0, 0.15);\n",
              "      filter: drop-shadow(0px 1px 2px rgba(0, 0, 0, 0.3));\n",
              "      fill: #FFFFFF;\n",
              "    }\n",
              "  </style>\n",
              "\n",
              "      <script>\n",
              "        const buttonEl =\n",
              "          document.querySelector('#df-918a9bea-4a59-42a3-813a-e99624220047 button.colab-df-convert');\n",
              "        buttonEl.style.display =\n",
              "          google.colab.kernel.accessAllowed ? 'block' : 'none';\n",
              "\n",
              "        async function convertToInteractive(key) {\n",
              "          const element = document.querySelector('#df-918a9bea-4a59-42a3-813a-e99624220047');\n",
              "          const dataTable =\n",
              "            await google.colab.kernel.invokeFunction('convertToInteractive',\n",
              "                                                     [key], {});\n",
              "          if (!dataTable) return;\n",
              "\n",
              "          const docLinkHtml = 'Like what you see? Visit the ' +\n",
              "            '<a target=\"_blank\" href=https://colab.research.google.com/notebooks/data_table.ipynb>data table notebook</a>'\n",
              "            + ' to learn more about interactive tables.';\n",
              "          element.innerHTML = '';\n",
              "          dataTable['output_type'] = 'display_data';\n",
              "          await google.colab.output.renderOutput(dataTable, element);\n",
              "          const docLink = document.createElement('div');\n",
              "          docLink.innerHTML = docLinkHtml;\n",
              "          element.appendChild(docLink);\n",
              "        }\n",
              "      </script>\n",
              "    </div>\n",
              "  </div>\n",
              "  "
            ],
            "text/plain": [
              "                                                 Smiles  Active\n",
              "0     COC(=O)Nc1ccc(-c2nc(N3CCOCC3)c3cnn(C4CCN(Cc5cc...   False\n",
              "1                       O=Cc1cn(Cc2ccc(Cl)cc2)c2ccccc12    True\n",
              "2                         NC(CO)C(=O)NNCc1ccc(O)c(O)c1O   False\n",
              "3          Nc1nc(=O)n([C@H]2C[C@H](O)[C@@H](CO)O2)cc1Cl   False\n",
              "4     Nc1ccc(C(=O)Nc2cccc(-c3nc(N4CCOCC4)c4oc5ncccc5...    True\n",
              "...                                                 ...     ...\n",
              "1609   NS(=O)(=O)c1cc2c(cc1Cl)NC(C1CC3C=CC1C3)NS2(=O)=O    True\n",
              "1610          Cc1cccc(Nc2ccncc2S(=O)(=O)NC(=O)NC(C)C)c1    True\n",
              "1611  CCCC(=O)O[C@]1(C(=O)CO)CC[C@H]2[C@@H]3CCC4=CC(...   False\n",
              "1612             CN(C)c1cccc(Oc2cnc(Nc3cccc(O)c3)nc2)c1    True\n",
              "1613        O=C(O)c1ccccc1-c1c2ccc(=O)cc-2oc2cc(O)ccc12    True\n",
              "\n",
              "[1614 rows x 2 columns]"
            ]
          },
          "metadata": {},
          "execution_count": 410
        }
      ]
    },
    {
      "cell_type": "markdown",
      "source": [
        "## Логрегрессия с кросс-валидацией"
      ],
      "metadata": {
        "id": "IUT24OVK2MLl"
      }
    },
    {
      "cell_type": "code",
      "source": [
        "lrgr_cv = LogisticRegressionCV(Cs=10,\n",
        "                               cv=5, # cv=int - Stratified Cross-Validation w/10 folds\n",
        "                               scoring='f1',\n",
        "                               solver='liblinear',\n",
        "                               penalty='l2',\n",
        "                               max_iter=500,\n",
        "                               class_weight='balanced',\n",
        "                               random_state=RND_SEED, \n",
        "                            #    l1_ratios=np.arange(0, 1.2, 0.3)\n",
        ")\n",
        "lrgr_cv.fit(X, y)\n"
      ],
      "metadata": {
        "colab": {
          "base_uri": "https://localhost:8080/"
        },
        "id": "lGP_3IP4cRlk",
        "outputId": "8a061d60-ce73-43d9-91b9-d16350fbc0bd"
      },
      "execution_count": 11,
      "outputs": [
        {
          "output_type": "execute_result",
          "data": {
            "text/plain": [
              "LogisticRegressionCV(class_weight='balanced', cv=5, max_iter=500,\n",
              "                     random_state=42, scoring='f1', solver='liblinear')"
            ]
          },
          "metadata": {},
          "execution_count": 11
        }
      ]
    },
    {
      "cell_type": "code",
      "source": [
        "lrgr_cv.scores_[True].shape\n",
        "lrgr_cv.get_params()\n",
        "\n",
        "# print(lrgr_cv.Cs_)\n",
        "# print(lrgr_cv.scores_[True].mean(axis=0))\n",
        "\n",
        "plt.scatter(lrgr_cv.Cs_, np.median(lrgr_cv.scores_[True], axis=0));\n",
        "plt.scatter(lrgr_cv.Cs_, np.mean(lrgr_cv.scores_[True], axis=0));\n",
        "plt.xlabel('C values', fontsize=13)\n",
        "plt.ylabel('folds-averaged F1 score', fontsize=13)\n",
        "plt.xscale('log');\n",
        "plt.legend(['median', 'mean'], loc='best');\n",
        "\n",
        "print( f'Max F1 = {np.mean(lrgr_cv.scores_[True], axis=0).max()}')"
      ],
      "metadata": {
        "colab": {
          "base_uri": "https://localhost:8080/",
          "height": 303
        },
        "id": "Y62QWNCi_pmO",
        "outputId": "d3feb8cc-4bdf-4942-a6ba-17958ddeb8a2"
      },
      "execution_count": 12,
      "outputs": [
        {
          "output_type": "stream",
          "name": "stdout",
          "text": [
            "Max F1 = 0.11204538764574293\n"
          ]
        },
        {
          "output_type": "display_data",
          "data": {
            "image/png": "[encoded data removed]",
            "text/plain": [
              "<Figure size 432x288 with 1 Axes>"
            ]
          },
          "metadata": {
            "needs_background": "light"
          }
        }
      ]
    },
    {
      "cell_type": "markdown",
      "source": [
        "##Catboost"
      ],
      "metadata": {
        "id": "zH8sk_4L-OzM"
      }
    },
    {
      "cell_type": "code",
      "source": [
        "data.C.apply(lambda a: np.log1p(a)).hist();\n",
        "data['('].apply(lambda a: np.log1p(a)).hist();"
      ],
      "metadata": {
        "colab": {
          "base_uri": "https://localhost:8080/",
          "height": 265
        },
        "id": "BzWnv4aJZUW-",
        "outputId": "1cbdb6dd-817e-40ac-c04a-2b387f416ecd"
      },
      "execution_count": 136,
      "outputs": [
        {
          "output_type": "display_data",
          "data": {
            "image/png": "[encoded data removed]",
            "text/plain": [
              "<Figure size 432x288 with 1 Axes>"
            ]
          },
          "metadata": {
            "needs_background": "light"
          }
        }
      ]
    },
    {
      "cell_type": "code",
      "source": [
        "from catboost import CatBoostClassifier, Pool, FeaturesData\n",
        "\n",
        "# разбиваем датасет на тренировку и валидацию\n",
        "X_cb = data[~data['is_test']].drop(['is_test', 'active'], axis=1)\n",
        "y_cb = data.loc[~data['is_test'], 'active']\n",
        "\n",
        "X_cb_train, X_cb_val, y_cb_train, y_cb_val = train_test_split(\n",
        "    X_cb, y_cb, test_size=0.2, random_state=RND_SEED\n",
        ")\n",
        "\n",
        "X_cb_train_fd= Pool(FeaturesData(\n",
        "    num_feature_data = X_cb_train['MW'].values.reshape(-1, 1).astype(np.float32),\n",
        "    cat_feature_data = X_cb_train.drop(['MW', 'smiles'], axis=1).values,\n",
        "    num_feature_names = ['MW'],\n",
        "    cat_feature_names = X_cb_train.drop(['MW', 'smiles'], axis=1).values.astype(object)\n",
        "))\n",
        "\n",
        "X_cb_val_pool = Pool(FeaturesData(\n",
        "    num_feature_data = X_cb_val['MW'].values.reshape(-1, 1).astype(np.float32),\n",
        "    cat_feature_data = X_cb_val.drop(['MW', 'smiles'], axis=1).values,\n",
        "    num_feature_names = ['MW'],\n",
        "    cat_feature_names = X_cb_val.drop(['MW', 'smiles'], axis=1).values.astype(object)\n",
        "))\n",
        "\n",
        "# X_cb_train_pool = "
      ],
      "metadata": {
        "colab": {
          "base_uri": "https://localhost:8080/",
          "height": 310
        },
        "id": "HK1otd423PDZ",
        "outputId": "21ee0c2d-97b9-4ac0-bca2-d522b8c4d96c"
      },
      "execution_count": 19,
      "outputs": [
        {
          "output_type": "error",
          "ename": "CatBoostError",
          "evalue": "ignored",
          "traceback": [
            "\u001b[0;31m---------------------------------------------------------------------------\u001b[0m",
            "\u001b[0;31mCatBoostError\u001b[0m                             Traceback (most recent call last)",
            "\u001b[0;32m<ipython-input-19-993054967612>\u001b[0m in \u001b[0;36m<module>\u001b[0;34m()\u001b[0m\n\u001b[1;32m     13\u001b[0m     \u001b[0mcat_feature_data\u001b[0m \u001b[0;34m=\u001b[0m \u001b[0mX_cb_train\u001b[0m\u001b[0;34m.\u001b[0m\u001b[0mdrop\u001b[0m\u001b[0;34m(\u001b[0m\u001b[0;34m[\u001b[0m\u001b[0;34m'MW'\u001b[0m\u001b[0;34m,\u001b[0m \u001b[0;34m'smiles'\u001b[0m\u001b[0;34m]\u001b[0m\u001b[0;34m,\u001b[0m \u001b[0maxis\u001b[0m\u001b[0;34m=\u001b[0m\u001b[0;36m1\u001b[0m\u001b[0;34m)\u001b[0m\u001b[0;34m.\u001b[0m\u001b[0mvalues\u001b[0m\u001b[0;34m,\u001b[0m\u001b[0;34m\u001b[0m\u001b[0;34m\u001b[0m\u001b[0m\n\u001b[1;32m     14\u001b[0m     \u001b[0mnum_feature_names\u001b[0m \u001b[0;34m=\u001b[0m \u001b[0;34m[\u001b[0m\u001b[0;34m'MW'\u001b[0m\u001b[0;34m]\u001b[0m\u001b[0;34m,\u001b[0m\u001b[0;34m\u001b[0m\u001b[0;34m\u001b[0m\u001b[0m\n\u001b[0;32m---> 15\u001b[0;31m     \u001b[0mcat_feature_names\u001b[0m \u001b[0;34m=\u001b[0m \u001b[0mX_cb_train\u001b[0m\u001b[0;34m.\u001b[0m\u001b[0mdrop\u001b[0m\u001b[0;34m(\u001b[0m\u001b[0;34m[\u001b[0m\u001b[0;34m'MW'\u001b[0m\u001b[0;34m,\u001b[0m \u001b[0;34m'smiles'\u001b[0m\u001b[0;34m]\u001b[0m\u001b[0;34m,\u001b[0m \u001b[0maxis\u001b[0m\u001b[0;34m=\u001b[0m\u001b[0;36m1\u001b[0m\u001b[0;34m)\u001b[0m\u001b[0;34m.\u001b[0m\u001b[0mvalues\u001b[0m\u001b[0;34m.\u001b[0m\u001b[0mastype\u001b[0m\u001b[0;34m(\u001b[0m\u001b[0mobject\u001b[0m\u001b[0;34m)\u001b[0m\u001b[0;34m\u001b[0m\u001b[0;34m\u001b[0m\u001b[0m\n\u001b[0m\u001b[1;32m     16\u001b[0m ))\n\u001b[1;32m     17\u001b[0m \u001b[0;34m\u001b[0m\u001b[0m\n",
            "\u001b[0;32m_catboost.pyx\u001b[0m in \u001b[0;36m_catboost.FeaturesData.__init__\u001b[0;34m()\u001b[0m\n",
            "\u001b[0;32m_catboost.pyx\u001b[0m in \u001b[0;36m_catboost.FeaturesData._check_and_set_part\u001b[0;34m()\u001b[0m\n",
            "\u001b[0;31mCatBoostError\u001b[0m: cat_feature_data element type must be <class 'object'>, found float64 instead"
          ]
        }
      ]
    },
    {
      "cell_type": "code",
      "source": [
        "X_cb_val.drop(['MW', 'smiles'], axis=1).values.astype(object)"
      ],
      "metadata": {
        "colab": {
          "base_uri": "https://localhost:8080/"
        },
        "id": "FhPY5ndTaUT8",
        "outputId": "d6251b0d-f760-4a77-f2cc-81fc7878447e"
      },
      "execution_count": 18,
      "outputs": [
        {
          "output_type": "execute_result",
          "data": {
            "text/plain": [
              "array([[0.33943086104088804, 1.2952135849723885, -1.0273772337303795,\n",
              "        ..., -0.15756868949273237, -0.32357945632530166,\n",
              "        -0.48138942991346767],\n",
              "       [-0.16840175518155656, -0.6144024290959913, -0.09206673441194588,\n",
              "        ..., -0.15756868949273237, -0.32357945632530166,\n",
              "        -0.20634510932647002],\n",
              "       [-0.16840175518155656, -0.6144024290959913, -0.7156070672909017,\n",
              "        ..., 8.064114010142138, -0.32357945632530166,\n",
              "        -0.48138942991346767],\n",
              "       ...,\n",
              "       [1.2281379394301661, -1.569210436130181, 0.5314735984670099, ...,\n",
              "        -0.15756868949273237, -0.32357945632530166, 0.8938321730215206],\n",
              "       [0.5933471691521103, -0.6144024290959913, 1.1550139313459657, ...,\n",
              "        -0.15756868949273237, -0.32357945632530166, 1.443920814195516],\n",
              "       [-0.54927621734839, -0.9326717647740546, 0.5314735984670099, ...,\n",
              "        -0.15756868949273237, 0.5980663862168313, -0.20634510932647002]],\n",
              "      dtype=object)"
            ]
          },
          "metadata": {},
          "execution_count": 18
        }
      ]
    },
    {
      "cell_type": "code",
      "source": [
        "X_cb = data[~data['is_test']].drop(['is_test', 'active'], axis=1)"
      ],
      "metadata": {
        "colab": {
          "base_uri": "https://localhost:8080/"
        },
        "id": "qIqF_UU7LJz8",
        "outputId": "99df0dcc-22e5-426b-bfc4-393355841bfa"
      },
      "execution_count": 125,
      "outputs": [
        {
          "output_type": "execute_result",
          "data": {
            "text/plain": [
              "str"
            ]
          },
          "metadata": {},
          "execution_count": 125
        }
      ]
    },
    {
      "cell_type": "markdown",
      "source": [
        "---\n",
        "---\n",
        "---\n",
        "ИДЕИ\n",
        "---\n",
        "---"
      ],
      "metadata": {
        "id": "kRf7zRUYrizc"
      }
    },
    {
      "cell_type": "markdown",
      "source": [
        "### Визуализация молекулы"
      ],
      "metadata": {
        "id": "YNV4g1_ho3SF"
      }
    },
    {
      "cell_type": "code",
      "source": [
        "# 616                        O1[As]2O[As]3O[As]1O[As](O2)O3\n",
        "# 1144                                        O=N[O-].[Na+]\n",
        "# 1172    O=[Mg].O=[Mg].O=[Mg].O=[Si]=O.O=[Si]=O.O=[Si]=...\n",
        "# 2569                                            [I-].[K+]\n",
        "# 2858                         O=P([O-])([O-])F.[Na+].[Na+]\n",
        "# 6264                                          NS(N)(=O)=O\n",
        "\n",
        "# 616          O1[As]2O[As]3O[As]1O[As](O2)O3\n",
        "# 915          CC(=O)Nc1cc([As](=O)(O)O)ccc1O\n",
        "# 5864     O=[N+]([O-])c1ccc([As](=O)(O)O)cc1\n",
        "# 6562    O=[N+]([O-])c1cc([As](=O)(O)O)ccc1O\n",
        "# 6761                Nc1ccc([As](=O)(O)O)cc1"
      ],
      "metadata": {
        "id": "uom0XoVR4l4v"
      },
      "execution_count": null,
      "outputs": []
    },
    {
      "cell_type": "code",
      "source": [
        "# smpl = train['smiles'][134]\n",
        "smpl_ind = 6081\n",
        "smpl = data.loc[smpl_ind, 'smiles']\n",
        "# smpl = 'C(-c6cnc7ccccc7c6)'\n",
        "if_active = 'Active' if data.loc[smpl_ind, 'active'] \\\n",
        "                    else ('Not active' if smpl_ind < 5556 else 'Unknown')\n",
        "\n",
        "mol = Chem.MolFromSmiles(smpl)\n",
        "im = Chem.Draw.MolToImage(mol)\n",
        "print(f'{smpl}\\n{if_active}')\n",
        "plt.figure(figsize = (8, 8))\n",
        "axs = plt.axes(frameon=True)\n",
        "axs.imshow(im)\n",
        "axs.axis('off');"
      ],
      "metadata": {
        "colab": {
          "base_uri": "https://localhost:8080/",
          "height": 501
        },
        "id": "Vi3dAm_jEppo",
        "outputId": "dc7aad2d-2116-43ea-9900-d12e4cbfac67"
      },
      "execution_count": 240,
      "outputs": [
        {
          "output_type": "stream",
          "name": "stdout",
          "text": [
            "Cl.Cl.Fc1ccc(C(OCCN2CCN(C/C=C/c3ccccc3)CC2)c2ccc(F)cc2)cc1\n",
            "Unknown\n"
          ]
        },
        {
          "output_type": "display_data",
          "data": {
            "image/png": "[encoded data removed]",
            "text/plain": [
              "<Figure size 576x576 with 1 Axes>"
            ]
          },
          "metadata": {
            "needs_background": "light"
          }
        }
      ]
    },
    {
      "cell_type": "markdown",
      "source": [
        "### Визуализируем активные молекулы:"
      ],
      "metadata": {
        "id": "93KJThjYrwti"
      }
    },
    {
      "cell_type": "code",
      "source": [
        "# smiles_active = train.iloc[active_ind, :]['smiles'].values\n",
        "# fig, axs = plt.subplots(25, 2, figsize=(10, 100))\n",
        "# axs = axs.ravel()\n",
        "\n",
        "# for i, smpl in enumerate(smiles_active[50:100]):\n",
        "#     mol = Chem.MolFromSmiles(smpl)\n",
        "#     im = Chem.Draw.MolToImage(mol)\n",
        "#     print(f'{i}) {smpl}')\n",
        "#     # plt.figure(figsize = (3, 3))\n",
        "#     # axs(i) = plt.axes(frameon=True)\n",
        "#     axs[i].imshow(im)\n",
        "#     axs[i].axis('off');"
      ],
      "metadata": {
        "id": "6d4n8rg5IGcD"
      },
      "execution_count": 29,
      "outputs": []
    },
    {
      "cell_type": "code",
      "source": [
        "(data.loc[smpl_ind, 'active'])"
      ],
      "metadata": {
        "colab": {
          "base_uri": "https://localhost:8080/"
        },
        "id": "HZ1dD_yMtkST",
        "outputId": "47e4acaa-fe1f-476b-ecf6-6085a4b42652"
      },
      "execution_count": 87,
      "outputs": [
        {
          "output_type": "stream",
          "name": "stdout",
          "text": [
            "None\n"
          ]
        }
      ]
    },
    {
      "cell_type": "markdown",
      "source": [
        "### Оцениваем эффект на F1-score от замены y_pred на ~y_pred"
      ],
      "metadata": {
        "id": "fCIfqU2C103e"
      }
    },
    {
      "cell_type": "code",
      "source": [
        "# from sklearn.metrics import f1_score\n",
        "# import pandas as pd\n",
        "# import numpy as np\n",
        "# import matplotlib.pyplot as plt\n",
        "\n",
        "# n_sample = 1600\n",
        "# y_true = np.random.rand(n_sample) >= 0.5\n",
        "# y_pred = y_true.copy()\n",
        "\n",
        "# f1 = []\n",
        "# f1_not = []\n",
        "\n",
        "# for i in range(3000):\n",
        "#     ind = np.random.randint(n_sample)\n",
        "#     if y_pred[ind] == y_true[ind]:\n",
        "#         y_pred[ind] = not(y_pred[ind])\n",
        "\n",
        "#     f1 += [f1_score(y_true, y_pred)]\n",
        "#     f1_not += [f1_score(y_true, ~y_pred)]\n",
        "   \n",
        "# # plt.hist(y_true.astype(int));"
      ],
      "metadata": {
        "id": "KPDtotUrAeuI"
      },
      "execution_count": 79,
      "outputs": []
    },
    {
      "cell_type": "code",
      "source": [
        "# plt.figure(figsize=(10, 10))\n",
        "# plt.scatter(f1, f1_not);\n",
        "# plt.xlabel('False F1', fontsize=15);\n",
        "# plt.ylabel('True F1', fontsize=15);\n",
        "# plt.plot([0, 1], [1, 0],);"
      ],
      "metadata": {
        "id": "FqncpjNkDYF_"
      },
      "execution_count": null,
      "outputs": []
    },
    {
      "cell_type": "code",
      "source": [
        "# mol = Chem.MolFromSmiles('CNNc1ccc(C(O)c2ccccc2)c(O)c1')\n",
        "# mol = Chem.MolFromSmiles('Nc1nc(O)c2c(n1)NCC(CNc1ccc(C(=O)N[C@@H](CCC(=O)[O-])C(=O)[O-])cc1)N2C=O.[Ca+2]')\n",
        "# im = Chem.Draw.MolToImage(mol)\n",
        "\n",
        "# plt.figure(figsize = (10, 10))\n",
        "# ax = plt.axes(frameon=True)\n",
        "# ax.imshow(im)\n",
        "# ax.axis('off');"
      ],
      "metadata": {
        "id": "iLSBKxpstEbn"
      },
      "execution_count": 3,
      "outputs": []
    }
  ]
}